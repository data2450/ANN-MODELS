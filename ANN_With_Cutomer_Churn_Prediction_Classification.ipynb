{
  "nbformat": 4,
  "nbformat_minor": 0,
  "metadata": {
    "colab": {
      "name": "ANN With Cutomer Churn Prediction- Classification.ipynb",
      "provenance": [],
      "include_colab_link": true
    },
    "kernelspec": {
      "display_name": "Python 3",
      "language": "python",
      "name": "python3"
    },
    "language_info": {
      "codemirror_mode": {
        "name": "ipython",
        "version": 3
      },
      "file_extension": ".py",
      "mimetype": "text/x-python",
      "name": "python",
      "nbconvert_exporter": "python",
      "pygments_lexer": "ipython3",
      "version": "3.7.7"
    }
  },
  "cells": [
    {
      "cell_type": "markdown",
      "metadata": {
        "id": "view-in-github",
        "colab_type": "text"
      },
      "source": [
        "<a href=\"https://colab.research.google.com/github/data2450/ANN-MODELS/blob/main/ANN_With_Cutomer_Churn_Prediction_Classification.ipynb\" target=\"_parent\"><img src=\"https://colab.research.google.com/assets/colab-badge.svg\" alt=\"Open In Colab\"/></a>"
      ]
    },
    {
      "cell_type": "markdown",
      "metadata": {
        "id": "7jAhzbh5TXN7"
      },
      "source": [
        "### ANN With Cutomer Churn Prediction- Classification"
      ]
    },
    {
      "cell_type": "code",
      "metadata": {
        "id": "LJ1czPWJml_f"
      },
      "source": [
        "# Part 1 - Data Preprocessing\n",
        "\n",
        "# Importing the libraries\n",
        "import numpy as np\n",
        "import matplotlib.pyplot as plt\n",
        "import pandas as pd"
      ],
      "execution_count": null,
      "outputs": []
    },
    {
      "cell_type": "code",
      "metadata": {
        "id": "-H0j08pym5HX"
      },
      "source": [
        "# Importing the dataset\n",
        "url='https://raw.githubusercontent.com/data2450/deep-learning-intro/main/Churn_Modelling.csv'\n",
        "dataset = pd.read_csv(url)\n",
        "X = dataset.iloc[:, 3:13]\n",
        "y = dataset.iloc[:, 13]"
      ],
      "execution_count": null,
      "outputs": []
    },
    {
      "cell_type": "code",
      "metadata": {
        "id": "dBhc32EZTXN_",
        "colab": {
          "base_uri": "https://localhost:8080/",
          "height": 204
        },
        "outputId": "2e185ea6-77bf-4970-c034-d7e3f08835a3"
      },
      "source": [
        "dataset.head()"
      ],
      "execution_count": null,
      "outputs": [
        {
          "output_type": "execute_result",
          "data": {
            "text/html": [
              "<div>\n",
              "<style scoped>\n",
              "    .dataframe tbody tr th:only-of-type {\n",
              "        vertical-align: middle;\n",
              "    }\n",
              "\n",
              "    .dataframe tbody tr th {\n",
              "        vertical-align: top;\n",
              "    }\n",
              "\n",
              "    .dataframe thead th {\n",
              "        text-align: right;\n",
              "    }\n",
              "</style>\n",
              "<table border=\"1\" class=\"dataframe\">\n",
              "  <thead>\n",
              "    <tr style=\"text-align: right;\">\n",
              "      <th></th>\n",
              "      <th>RowNumber</th>\n",
              "      <th>CustomerId</th>\n",
              "      <th>Surname</th>\n",
              "      <th>CreditScore</th>\n",
              "      <th>Geography</th>\n",
              "      <th>Gender</th>\n",
              "      <th>Age</th>\n",
              "      <th>Tenure</th>\n",
              "      <th>Balance</th>\n",
              "      <th>NumOfProducts</th>\n",
              "      <th>HasCrCard</th>\n",
              "      <th>IsActiveMember</th>\n",
              "      <th>EstimatedSalary</th>\n",
              "      <th>Exited</th>\n",
              "    </tr>\n",
              "  </thead>\n",
              "  <tbody>\n",
              "    <tr>\n",
              "      <th>0</th>\n",
              "      <td>1</td>\n",
              "      <td>15634602</td>\n",
              "      <td>Hargrave</td>\n",
              "      <td>619</td>\n",
              "      <td>France</td>\n",
              "      <td>Female</td>\n",
              "      <td>42</td>\n",
              "      <td>2</td>\n",
              "      <td>0.00</td>\n",
              "      <td>1</td>\n",
              "      <td>1</td>\n",
              "      <td>1</td>\n",
              "      <td>101348.88</td>\n",
              "      <td>1</td>\n",
              "    </tr>\n",
              "    <tr>\n",
              "      <th>1</th>\n",
              "      <td>2</td>\n",
              "      <td>15647311</td>\n",
              "      <td>Hill</td>\n",
              "      <td>608</td>\n",
              "      <td>Spain</td>\n",
              "      <td>Female</td>\n",
              "      <td>41</td>\n",
              "      <td>1</td>\n",
              "      <td>83807.86</td>\n",
              "      <td>1</td>\n",
              "      <td>0</td>\n",
              "      <td>1</td>\n",
              "      <td>112542.58</td>\n",
              "      <td>0</td>\n",
              "    </tr>\n",
              "    <tr>\n",
              "      <th>2</th>\n",
              "      <td>3</td>\n",
              "      <td>15619304</td>\n",
              "      <td>Onio</td>\n",
              "      <td>502</td>\n",
              "      <td>France</td>\n",
              "      <td>Female</td>\n",
              "      <td>42</td>\n",
              "      <td>8</td>\n",
              "      <td>159660.80</td>\n",
              "      <td>3</td>\n",
              "      <td>1</td>\n",
              "      <td>0</td>\n",
              "      <td>113931.57</td>\n",
              "      <td>1</td>\n",
              "    </tr>\n",
              "    <tr>\n",
              "      <th>3</th>\n",
              "      <td>4</td>\n",
              "      <td>15701354</td>\n",
              "      <td>Boni</td>\n",
              "      <td>699</td>\n",
              "      <td>France</td>\n",
              "      <td>Female</td>\n",
              "      <td>39</td>\n",
              "      <td>1</td>\n",
              "      <td>0.00</td>\n",
              "      <td>2</td>\n",
              "      <td>0</td>\n",
              "      <td>0</td>\n",
              "      <td>93826.63</td>\n",
              "      <td>0</td>\n",
              "    </tr>\n",
              "    <tr>\n",
              "      <th>4</th>\n",
              "      <td>5</td>\n",
              "      <td>15737888</td>\n",
              "      <td>Mitchell</td>\n",
              "      <td>850</td>\n",
              "      <td>Spain</td>\n",
              "      <td>Female</td>\n",
              "      <td>43</td>\n",
              "      <td>2</td>\n",
              "      <td>125510.82</td>\n",
              "      <td>1</td>\n",
              "      <td>1</td>\n",
              "      <td>1</td>\n",
              "      <td>79084.10</td>\n",
              "      <td>0</td>\n",
              "    </tr>\n",
              "  </tbody>\n",
              "</table>\n",
              "</div>"
            ],
            "text/plain": [
              "   RowNumber  CustomerId   Surname  ...  IsActiveMember EstimatedSalary Exited\n",
              "0          1    15634602  Hargrave  ...               1       101348.88      1\n",
              "1          2    15647311      Hill  ...               1       112542.58      0\n",
              "2          3    15619304      Onio  ...               0       113931.57      1\n",
              "3          4    15701354      Boni  ...               0        93826.63      0\n",
              "4          5    15737888  Mitchell  ...               1        79084.10      0\n",
              "\n",
              "[5 rows x 14 columns]"
            ]
          },
          "metadata": {
            "tags": []
          },
          "execution_count": 3
        }
      ]
    },
    {
      "cell_type": "code",
      "metadata": {
        "id": "uCDrczXQWfvZ",
        "colab": {
          "base_uri": "https://localhost:8080/"
        },
        "outputId": "10d885d0-120b-45b9-ea66-1d3ba7cbdfee"
      },
      "source": [
        "dataset.shape"
      ],
      "execution_count": null,
      "outputs": [
        {
          "output_type": "execute_result",
          "data": {
            "text/plain": [
              "(10000, 14)"
            ]
          },
          "metadata": {
            "tags": []
          },
          "execution_count": 4
        }
      ]
    },
    {
      "cell_type": "code",
      "metadata": {
        "id": "6Ny1ZdDOTXN_",
        "outputId": "803de90c-d993-4716-c867-899f3a36ba1f"
      },
      "source": [
        "dataset.isnull().sum()"
      ],
      "execution_count": null,
      "outputs": [
        {
          "output_type": "execute_result",
          "data": {
            "text/plain": [
              "RowNumber          0\n",
              "CustomerId         0\n",
              "Surname            0\n",
              "CreditScore        0\n",
              "Geography          0\n",
              "Gender             0\n",
              "Age                0\n",
              "Tenure             0\n",
              "Balance            0\n",
              "NumOfProducts      0\n",
              "HasCrCard          0\n",
              "IsActiveMember     0\n",
              "EstimatedSalary    0\n",
              "Exited             0\n",
              "dtype: int64"
            ]
          },
          "metadata": {
            "tags": []
          },
          "execution_count": 4
        }
      ]
    },
    {
      "cell_type": "code",
      "metadata": {
        "id": "fIJxHR17TXN_",
        "colab": {
          "base_uri": "https://localhost:8080/",
          "height": 204
        },
        "outputId": "2604c5d0-e752-4b47-f763-26b309539032"
      },
      "source": [
        "X.head()"
      ],
      "execution_count": null,
      "outputs": [
        {
          "output_type": "execute_result",
          "data": {
            "text/html": [
              "<div>\n",
              "<style scoped>\n",
              "    .dataframe tbody tr th:only-of-type {\n",
              "        vertical-align: middle;\n",
              "    }\n",
              "\n",
              "    .dataframe tbody tr th {\n",
              "        vertical-align: top;\n",
              "    }\n",
              "\n",
              "    .dataframe thead th {\n",
              "        text-align: right;\n",
              "    }\n",
              "</style>\n",
              "<table border=\"1\" class=\"dataframe\">\n",
              "  <thead>\n",
              "    <tr style=\"text-align: right;\">\n",
              "      <th></th>\n",
              "      <th>CreditScore</th>\n",
              "      <th>Geography</th>\n",
              "      <th>Gender</th>\n",
              "      <th>Age</th>\n",
              "      <th>Tenure</th>\n",
              "      <th>Balance</th>\n",
              "      <th>NumOfProducts</th>\n",
              "      <th>HasCrCard</th>\n",
              "      <th>IsActiveMember</th>\n",
              "      <th>EstimatedSalary</th>\n",
              "    </tr>\n",
              "  </thead>\n",
              "  <tbody>\n",
              "    <tr>\n",
              "      <th>0</th>\n",
              "      <td>619</td>\n",
              "      <td>France</td>\n",
              "      <td>Female</td>\n",
              "      <td>42</td>\n",
              "      <td>2</td>\n",
              "      <td>0.00</td>\n",
              "      <td>1</td>\n",
              "      <td>1</td>\n",
              "      <td>1</td>\n",
              "      <td>101348.88</td>\n",
              "    </tr>\n",
              "    <tr>\n",
              "      <th>1</th>\n",
              "      <td>608</td>\n",
              "      <td>Spain</td>\n",
              "      <td>Female</td>\n",
              "      <td>41</td>\n",
              "      <td>1</td>\n",
              "      <td>83807.86</td>\n",
              "      <td>1</td>\n",
              "      <td>0</td>\n",
              "      <td>1</td>\n",
              "      <td>112542.58</td>\n",
              "    </tr>\n",
              "    <tr>\n",
              "      <th>2</th>\n",
              "      <td>502</td>\n",
              "      <td>France</td>\n",
              "      <td>Female</td>\n",
              "      <td>42</td>\n",
              "      <td>8</td>\n",
              "      <td>159660.80</td>\n",
              "      <td>3</td>\n",
              "      <td>1</td>\n",
              "      <td>0</td>\n",
              "      <td>113931.57</td>\n",
              "    </tr>\n",
              "    <tr>\n",
              "      <th>3</th>\n",
              "      <td>699</td>\n",
              "      <td>France</td>\n",
              "      <td>Female</td>\n",
              "      <td>39</td>\n",
              "      <td>1</td>\n",
              "      <td>0.00</td>\n",
              "      <td>2</td>\n",
              "      <td>0</td>\n",
              "      <td>0</td>\n",
              "      <td>93826.63</td>\n",
              "    </tr>\n",
              "    <tr>\n",
              "      <th>4</th>\n",
              "      <td>850</td>\n",
              "      <td>Spain</td>\n",
              "      <td>Female</td>\n",
              "      <td>43</td>\n",
              "      <td>2</td>\n",
              "      <td>125510.82</td>\n",
              "      <td>1</td>\n",
              "      <td>1</td>\n",
              "      <td>1</td>\n",
              "      <td>79084.10</td>\n",
              "    </tr>\n",
              "  </tbody>\n",
              "</table>\n",
              "</div>"
            ],
            "text/plain": [
              "   CreditScore Geography  Gender  ...  HasCrCard  IsActiveMember  EstimatedSalary\n",
              "0          619    France  Female  ...          1               1        101348.88\n",
              "1          608     Spain  Female  ...          0               1        112542.58\n",
              "2          502    France  Female  ...          1               0        113931.57\n",
              "3          699    France  Female  ...          0               0         93826.63\n",
              "4          850     Spain  Female  ...          1               1         79084.10\n",
              "\n",
              "[5 rows x 10 columns]"
            ]
          },
          "metadata": {
            "tags": []
          },
          "execution_count": 5
        }
      ]
    },
    {
      "cell_type": "code",
      "metadata": {
        "id": "l0wXMQrWTXOA",
        "colab": {
          "base_uri": "https://localhost:8080/"
        },
        "outputId": "5e3b0d46-e199-4251-95d1-babcb9a50f42"
      },
      "source": [
        "y.head()"
      ],
      "execution_count": null,
      "outputs": [
        {
          "output_type": "execute_result",
          "data": {
            "text/plain": [
              "0    1\n",
              "1    0\n",
              "2    1\n",
              "3    0\n",
              "4    0\n",
              "Name: Exited, dtype: int64"
            ]
          },
          "metadata": {
            "tags": []
          },
          "execution_count": 6
        }
      ]
    },
    {
      "cell_type": "code",
      "metadata": {
        "id": "N9QNTLkJm8tm"
      },
      "source": [
        "#Create dummy variables\n",
        "geography=pd.get_dummies(X[\"Geography\"],drop_first=True)\n",
        "gender=pd.get_dummies(X['Gender'],drop_first=True)\n"
      ],
      "execution_count": null,
      "outputs": []
    },
    {
      "cell_type": "code",
      "metadata": {
        "id": "eYAX3Ip0TXOA",
        "outputId": "e6f94938-de37-4cc8-857e-e8241dd66ffc"
      },
      "source": [
        "geography"
      ],
      "execution_count": null,
      "outputs": [
        {
          "output_type": "execute_result",
          "data": {
            "text/html": [
              "<div>\n",
              "<style scoped>\n",
              "    .dataframe tbody tr th:only-of-type {\n",
              "        vertical-align: middle;\n",
              "    }\n",
              "\n",
              "    .dataframe tbody tr th {\n",
              "        vertical-align: top;\n",
              "    }\n",
              "\n",
              "    .dataframe thead th {\n",
              "        text-align: right;\n",
              "    }\n",
              "</style>\n",
              "<table border=\"1\" class=\"dataframe\">\n",
              "  <thead>\n",
              "    <tr style=\"text-align: right;\">\n",
              "      <th></th>\n",
              "      <th>Germany</th>\n",
              "      <th>Spain</th>\n",
              "    </tr>\n",
              "  </thead>\n",
              "  <tbody>\n",
              "    <tr>\n",
              "      <th>0</th>\n",
              "      <td>0</td>\n",
              "      <td>0</td>\n",
              "    </tr>\n",
              "    <tr>\n",
              "      <th>1</th>\n",
              "      <td>0</td>\n",
              "      <td>1</td>\n",
              "    </tr>\n",
              "    <tr>\n",
              "      <th>2</th>\n",
              "      <td>0</td>\n",
              "      <td>0</td>\n",
              "    </tr>\n",
              "    <tr>\n",
              "      <th>3</th>\n",
              "      <td>0</td>\n",
              "      <td>0</td>\n",
              "    </tr>\n",
              "    <tr>\n",
              "      <th>4</th>\n",
              "      <td>0</td>\n",
              "      <td>1</td>\n",
              "    </tr>\n",
              "    <tr>\n",
              "      <th>...</th>\n",
              "      <td>...</td>\n",
              "      <td>...</td>\n",
              "    </tr>\n",
              "    <tr>\n",
              "      <th>9995</th>\n",
              "      <td>0</td>\n",
              "      <td>0</td>\n",
              "    </tr>\n",
              "    <tr>\n",
              "      <th>9996</th>\n",
              "      <td>0</td>\n",
              "      <td>0</td>\n",
              "    </tr>\n",
              "    <tr>\n",
              "      <th>9997</th>\n",
              "      <td>0</td>\n",
              "      <td>0</td>\n",
              "    </tr>\n",
              "    <tr>\n",
              "      <th>9998</th>\n",
              "      <td>1</td>\n",
              "      <td>0</td>\n",
              "    </tr>\n",
              "    <tr>\n",
              "      <th>9999</th>\n",
              "      <td>0</td>\n",
              "      <td>0</td>\n",
              "    </tr>\n",
              "  </tbody>\n",
              "</table>\n",
              "<p>10000 rows × 2 columns</p>\n",
              "</div>"
            ],
            "text/plain": [
              "      Germany  Spain\n",
              "0           0      0\n",
              "1           0      1\n",
              "2           0      0\n",
              "3           0      0\n",
              "4           0      1\n",
              "...       ...    ...\n",
              "9995        0      0\n",
              "9996        0      0\n",
              "9997        0      0\n",
              "9998        1      0\n",
              "9999        0      0\n",
              "\n",
              "[10000 rows x 2 columns]"
            ]
          },
          "metadata": {
            "tags": []
          },
          "execution_count": 8
        }
      ]
    },
    {
      "cell_type": "code",
      "metadata": {
        "id": "rbNc5sLHnAdP"
      },
      "source": [
        "## Concatenate the Data Frames\n",
        "\n",
        "X=pd.concat([X,geography,gender],axis=1)\n",
        "\n",
        "## Drop Unnecessary columns\n",
        "X=X.drop(['Geography','Gender'],axis=1)"
      ],
      "execution_count": null,
      "outputs": []
    },
    {
      "cell_type": "code",
      "metadata": {
        "id": "CPIizOBpTXOA",
        "colab": {
          "base_uri": "https://localhost:8080/"
        },
        "outputId": "4fbe1112-9717-4e42-aad3-e6ae8093dd5f"
      },
      "source": [
        "X.shape"
      ],
      "execution_count": null,
      "outputs": [
        {
          "output_type": "execute_result",
          "data": {
            "text/plain": [
              "(10000, 11)"
            ]
          },
          "metadata": {
            "tags": []
          },
          "execution_count": 10
        }
      ]
    },
    {
      "cell_type": "code",
      "metadata": {
        "id": "n-HAxBLwTXOA",
        "colab": {
          "base_uri": "https://localhost:8080/",
          "height": 204
        },
        "outputId": "62e8a3a6-ae13-4dd9-dda3-ffe1b49b1b22"
      },
      "source": [
        "X.head()"
      ],
      "execution_count": null,
      "outputs": [
        {
          "output_type": "execute_result",
          "data": {
            "text/html": [
              "<div>\n",
              "<style scoped>\n",
              "    .dataframe tbody tr th:only-of-type {\n",
              "        vertical-align: middle;\n",
              "    }\n",
              "\n",
              "    .dataframe tbody tr th {\n",
              "        vertical-align: top;\n",
              "    }\n",
              "\n",
              "    .dataframe thead th {\n",
              "        text-align: right;\n",
              "    }\n",
              "</style>\n",
              "<table border=\"1\" class=\"dataframe\">\n",
              "  <thead>\n",
              "    <tr style=\"text-align: right;\">\n",
              "      <th></th>\n",
              "      <th>CreditScore</th>\n",
              "      <th>Age</th>\n",
              "      <th>Tenure</th>\n",
              "      <th>Balance</th>\n",
              "      <th>NumOfProducts</th>\n",
              "      <th>HasCrCard</th>\n",
              "      <th>IsActiveMember</th>\n",
              "      <th>EstimatedSalary</th>\n",
              "      <th>Germany</th>\n",
              "      <th>Spain</th>\n",
              "      <th>Male</th>\n",
              "    </tr>\n",
              "  </thead>\n",
              "  <tbody>\n",
              "    <tr>\n",
              "      <th>0</th>\n",
              "      <td>619</td>\n",
              "      <td>42</td>\n",
              "      <td>2</td>\n",
              "      <td>0.00</td>\n",
              "      <td>1</td>\n",
              "      <td>1</td>\n",
              "      <td>1</td>\n",
              "      <td>101348.88</td>\n",
              "      <td>0</td>\n",
              "      <td>0</td>\n",
              "      <td>0</td>\n",
              "    </tr>\n",
              "    <tr>\n",
              "      <th>1</th>\n",
              "      <td>608</td>\n",
              "      <td>41</td>\n",
              "      <td>1</td>\n",
              "      <td>83807.86</td>\n",
              "      <td>1</td>\n",
              "      <td>0</td>\n",
              "      <td>1</td>\n",
              "      <td>112542.58</td>\n",
              "      <td>0</td>\n",
              "      <td>1</td>\n",
              "      <td>0</td>\n",
              "    </tr>\n",
              "    <tr>\n",
              "      <th>2</th>\n",
              "      <td>502</td>\n",
              "      <td>42</td>\n",
              "      <td>8</td>\n",
              "      <td>159660.80</td>\n",
              "      <td>3</td>\n",
              "      <td>1</td>\n",
              "      <td>0</td>\n",
              "      <td>113931.57</td>\n",
              "      <td>0</td>\n",
              "      <td>0</td>\n",
              "      <td>0</td>\n",
              "    </tr>\n",
              "    <tr>\n",
              "      <th>3</th>\n",
              "      <td>699</td>\n",
              "      <td>39</td>\n",
              "      <td>1</td>\n",
              "      <td>0.00</td>\n",
              "      <td>2</td>\n",
              "      <td>0</td>\n",
              "      <td>0</td>\n",
              "      <td>93826.63</td>\n",
              "      <td>0</td>\n",
              "      <td>0</td>\n",
              "      <td>0</td>\n",
              "    </tr>\n",
              "    <tr>\n",
              "      <th>4</th>\n",
              "      <td>850</td>\n",
              "      <td>43</td>\n",
              "      <td>2</td>\n",
              "      <td>125510.82</td>\n",
              "      <td>1</td>\n",
              "      <td>1</td>\n",
              "      <td>1</td>\n",
              "      <td>79084.10</td>\n",
              "      <td>0</td>\n",
              "      <td>1</td>\n",
              "      <td>0</td>\n",
              "    </tr>\n",
              "  </tbody>\n",
              "</table>\n",
              "</div>"
            ],
            "text/plain": [
              "   CreditScore  Age  Tenure    Balance  ...  EstimatedSalary  Germany  Spain  Male\n",
              "0          619   42       2       0.00  ...        101348.88        0      0     0\n",
              "1          608   41       1   83807.86  ...        112542.58        0      1     0\n",
              "2          502   42       8  159660.80  ...        113931.57        0      0     0\n",
              "3          699   39       1       0.00  ...         93826.63        0      0     0\n",
              "4          850   43       2  125510.82  ...         79084.10        0      1     0\n",
              "\n",
              "[5 rows x 11 columns]"
            ]
          },
          "metadata": {
            "tags": []
          },
          "execution_count": 11
        }
      ]
    },
    {
      "cell_type": "code",
      "metadata": {
        "id": "YkYOlHPAnDz_"
      },
      "source": [
        "# Splitting the dataset into the Training set and Test set\n",
        "from sklearn.model_selection import train_test_split\n",
        "X_train, X_test, y_train, y_test = train_test_split(X, y, test_size = 0.2, random_state = 0)\n"
      ],
      "execution_count": null,
      "outputs": []
    },
    {
      "cell_type": "code",
      "metadata": {
        "id": "cP2vl1p9nGyj"
      },
      "source": [
        "# Feature Scaling\n",
        "from sklearn.preprocessing import StandardScaler\n",
        "sc = StandardScaler()\n",
        "X_train = sc.fit_transform(X_train)\n",
        "X_test = sc.transform(X_test)\n",
        "\n",
        "#fit and fit_transform ,,we need to  fit our data and transform it \n",
        "\n",
        "#the mean and sd used for test is from train data [X_train] we are not using the sd and mean of the X_test 's"
      ],
      "execution_count": null,
      "outputs": []
    },
    {
      "cell_type": "code",
      "metadata": {
        "id": "a2o62LwnTXOB",
        "colab": {
          "base_uri": "https://localhost:8080/"
        },
        "outputId": "0a325495-8d50-49ec-e3ce-61a70ca2cca9"
      },
      "source": [
        "X_train"
      ],
      "execution_count": null,
      "outputs": [
        {
          "output_type": "execute_result",
          "data": {
            "text/plain": [
              "array([[ 0.16958176, -0.46460796,  0.00666099, ..., -0.5698444 ,\n",
              "         1.74309049, -1.09168714],\n",
              "       [-2.30455945,  0.30102557, -1.37744033, ...,  1.75486502,\n",
              "        -0.57369368,  0.91601335],\n",
              "       [-1.19119591, -0.94312892, -1.031415  , ..., -0.5698444 ,\n",
              "        -0.57369368, -1.09168714],\n",
              "       ...,\n",
              "       [ 0.9015152 , -0.36890377,  0.00666099, ..., -0.5698444 ,\n",
              "        -0.57369368,  0.91601335],\n",
              "       [-0.62420521, -0.08179119,  1.39076231, ..., -0.5698444 ,\n",
              "         1.74309049, -1.09168714],\n",
              "       [-0.28401079,  0.87525072, -1.37744033, ...,  1.75486502,\n",
              "        -0.57369368, -1.09168714]])"
            ]
          },
          "metadata": {
            "tags": []
          },
          "execution_count": 15
        }
      ]
    },
    {
      "cell_type": "code",
      "metadata": {
        "id": "T50-hWIQeMcD",
        "colab": {
          "base_uri": "https://localhost:8080/"
        },
        "outputId": "7f439732-2f0a-49c0-e794-1b16fcb28ca4"
      },
      "source": [
        "X_test"
      ],
      "execution_count": null,
      "outputs": [
        {
          "output_type": "execute_result",
          "data": {
            "text/plain": [
              "array([[-0.55204276, -0.36890377,  1.04473698, ...,  1.75486502,\n",
              "        -0.57369368, -1.09168714],\n",
              "       [-1.31490297,  0.10961719, -1.031415  , ..., -0.5698444 ,\n",
              "        -0.57369368, -1.09168714],\n",
              "       [ 0.57162971,  0.30102557,  1.04473698, ..., -0.5698444 ,\n",
              "         1.74309049, -1.09168714],\n",
              "       ...,\n",
              "       [-0.74791227, -0.27319958, -1.37744033, ..., -0.5698444 ,\n",
              "         1.74309049,  0.91601335],\n",
              "       [-0.00566991, -0.46460796, -0.33936434, ...,  1.75486502,\n",
              "        -0.57369368,  0.91601335],\n",
              "       [-0.79945688, -0.84742473,  1.04473698, ...,  1.75486502,\n",
              "        -0.57369368,  0.91601335]])"
            ]
          },
          "metadata": {
            "tags": []
          },
          "execution_count": 16
        }
      ]
    },
    {
      "cell_type": "code",
      "metadata": {
        "id": "YnwlWfSYTXOB",
        "colab": {
          "base_uri": "https://localhost:8080/"
        },
        "outputId": "3136899b-e43b-4393-f1c9-699ff512f28f"
      },
      "source": [
        "import tensorflow\n",
        "print(tensorflow.__version__)"
      ],
      "execution_count": null,
      "outputs": [
        {
          "output_type": "stream",
          "text": [
            "2.3.0\n"
          ],
          "name": "stdout"
        }
      ]
    },
    {
      "cell_type": "code",
      "metadata": {
        "id": "9cazFt9anJYm"
      },
      "source": [
        "# Part 2 - Now let's make the ANN!\n",
        "\n",
        "# Importing the Keras libraries and packages\n",
        "import tensorflow.keras\n",
        "from tensorflow.keras.models import Sequential\n",
        "from tensorflow.keras.layers import Dense\n",
        "from tensorflow.keras.layers import Dropout"
      ],
      "execution_count": null,
      "outputs": []
    },
    {
      "cell_type": "code",
      "metadata": {
        "id": "hTi-VhFsfCXF",
        "colab": {
          "base_uri": "https://localhost:8080/"
        },
        "outputId": "5f878388-b69c-4703-aa48-801808ef9335"
      },
      "source": [
        "X_train.shape"
      ],
      "execution_count": null,
      "outputs": [
        {
          "output_type": "execute_result",
          "data": {
            "text/plain": [
              "(8000, 11)"
            ]
          },
          "metadata": {
            "tags": []
          },
          "execution_count": 19
        }
      ]
    },
    {
      "cell_type": "code",
      "metadata": {
        "id": "uuQ4aGhjnVfc"
      },
      "source": [
        "# Initialising the ANN\n",
        "classifier = Sequential()\n",
        "\n",
        "# Adding the input layer and the first hidden layer\n",
        "classifier.add(Dense(units = 10,kernel_initializer='he_uniform',activation='relu',input_dim = 11))\n",
        "\n",
        "# Adding the second hidden layer\n",
        "classifier.add(Dense(units = 10, kernel_initializer = 'he_uniform',activation='relu'))\n",
        "# Adding the output layer\n",
        "classifier.add(Dense(units = 1, kernel_initializer = 'glorot_uniform', activation = 'sigmoid'))#binary classificstion\n",
        "\n",
        "# Compiling the ANN\n",
        "classifier.compile(optimizer = 'adam', loss = 'binary_crossentropy', metrics = ['accuracy'])"
      ],
      "execution_count": null,
      "outputs": []
    },
    {
      "cell_type": "code",
      "metadata": {
        "id": "YvY4fyuTTXOC",
        "colab": {
          "base_uri": "https://localhost:8080/"
        },
        "outputId": "a0075be7-08f3-401f-bb64-2f10cd56bbfc"
      },
      "source": [
        "classifier.summary()"
      ],
      "execution_count": null,
      "outputs": [
        {
          "output_type": "stream",
          "text": [
            "Model: \"sequential\"\n",
            "_________________________________________________________________\n",
            "Layer (type)                 Output Shape              Param #   \n",
            "=================================================================\n",
            "dense (Dense)                (None, 10)                120       \n",
            "_________________________________________________________________\n",
            "dense_1 (Dense)              (None, 10)                110       \n",
            "_________________________________________________________________\n",
            "dense_2 (Dense)              (None, 1)                 11        \n",
            "=================================================================\n",
            "Total params: 241\n",
            "Trainable params: 241\n",
            "Non-trainable params: 0\n",
            "_________________________________________________________________\n"
          ],
          "name": "stdout"
        }
      ]
    },
    {
      "cell_type": "code",
      "metadata": {
        "colab": {
          "base_uri": "https://localhost:8080/"
        },
        "id": "zQ50oSx9nciT",
        "outputId": "5f0247b4-8691-453e-c56d-6428d291e80c"
      },
      "source": [
        "# Fitting the ANN to the Training set\n",
        "model_history=classifier.fit(X_train, y_train,validation_split=0.33, batch_size = 100,epochs = 100)"
      ],
      "execution_count": null,
      "outputs": [
        {
          "output_type": "stream",
          "text": [
            "Epoch 1/100\n",
            "54/54 [==============================] - 0s 4ms/step - loss: 0.5666 - accuracy: 0.7639 - val_loss: 0.5388 - val_accuracy: 0.7853\n",
            "Epoch 2/100\n",
            "54/54 [==============================] - 0s 2ms/step - loss: 0.5143 - accuracy: 0.7946 - val_loss: 0.5055 - val_accuracy: 0.7970\n",
            "Epoch 3/100\n",
            "54/54 [==============================] - 0s 2ms/step - loss: 0.4876 - accuracy: 0.7981 - val_loss: 0.4864 - val_accuracy: 0.7974\n",
            "Epoch 4/100\n",
            "54/54 [==============================] - 0s 2ms/step - loss: 0.4709 - accuracy: 0.7998 - val_loss: 0.4734 - val_accuracy: 0.7970\n",
            "Epoch 5/100\n",
            "54/54 [==============================] - 0s 2ms/step - loss: 0.4592 - accuracy: 0.8013 - val_loss: 0.4647 - val_accuracy: 0.7986\n",
            "Epoch 6/100\n",
            "54/54 [==============================] - 0s 2ms/step - loss: 0.4505 - accuracy: 0.8028 - val_loss: 0.4581 - val_accuracy: 0.7989\n",
            "Epoch 7/100\n",
            "54/54 [==============================] - 0s 2ms/step - loss: 0.4437 - accuracy: 0.8046 - val_loss: 0.4527 - val_accuracy: 0.7982\n",
            "Epoch 8/100\n",
            "54/54 [==============================] - 0s 2ms/step - loss: 0.4381 - accuracy: 0.8052 - val_loss: 0.4488 - val_accuracy: 0.7993\n",
            "Epoch 9/100\n",
            "54/54 [==============================] - 0s 2ms/step - loss: 0.4333 - accuracy: 0.8082 - val_loss: 0.4451 - val_accuracy: 0.8012\n",
            "Epoch 10/100\n",
            "54/54 [==============================] - 0s 2ms/step - loss: 0.4294 - accuracy: 0.8106 - val_loss: 0.4415 - val_accuracy: 0.8031\n",
            "Epoch 11/100\n",
            "54/54 [==============================] - 0s 2ms/step - loss: 0.4253 - accuracy: 0.8117 - val_loss: 0.4384 - val_accuracy: 0.8076\n",
            "Epoch 12/100\n",
            "54/54 [==============================] - 0s 2ms/step - loss: 0.4213 - accuracy: 0.8162 - val_loss: 0.4351 - val_accuracy: 0.8099\n",
            "Epoch 13/100\n",
            "54/54 [==============================] - 0s 2ms/step - loss: 0.4174 - accuracy: 0.8177 - val_loss: 0.4316 - val_accuracy: 0.8107\n",
            "Epoch 14/100\n",
            "54/54 [==============================] - 0s 2ms/step - loss: 0.4132 - accuracy: 0.8199 - val_loss: 0.4280 - val_accuracy: 0.8114\n",
            "Epoch 15/100\n",
            "54/54 [==============================] - 0s 2ms/step - loss: 0.4094 - accuracy: 0.8253 - val_loss: 0.4240 - val_accuracy: 0.8126\n",
            "Epoch 16/100\n",
            "54/54 [==============================] - 0s 2ms/step - loss: 0.4051 - accuracy: 0.8266 - val_loss: 0.4203 - val_accuracy: 0.8137\n",
            "Epoch 17/100\n",
            "54/54 [==============================] - 0s 2ms/step - loss: 0.4009 - accuracy: 0.8309 - val_loss: 0.4163 - val_accuracy: 0.8145\n",
            "Epoch 18/100\n",
            "54/54 [==============================] - 0s 2ms/step - loss: 0.3966 - accuracy: 0.8326 - val_loss: 0.4126 - val_accuracy: 0.8152\n",
            "Epoch 19/100\n",
            "54/54 [==============================] - 0s 2ms/step - loss: 0.3923 - accuracy: 0.8354 - val_loss: 0.4084 - val_accuracy: 0.8183\n",
            "Epoch 20/100\n",
            "54/54 [==============================] - 0s 2ms/step - loss: 0.3879 - accuracy: 0.8390 - val_loss: 0.4045 - val_accuracy: 0.8217\n",
            "Epoch 21/100\n",
            "54/54 [==============================] - 0s 2ms/step - loss: 0.3836 - accuracy: 0.8406 - val_loss: 0.4001 - val_accuracy: 0.8254\n",
            "Epoch 22/100\n",
            "54/54 [==============================] - 0s 2ms/step - loss: 0.3793 - accuracy: 0.8418 - val_loss: 0.3963 - val_accuracy: 0.8277\n",
            "Epoch 23/100\n",
            "54/54 [==============================] - 0s 2ms/step - loss: 0.3752 - accuracy: 0.8444 - val_loss: 0.3925 - val_accuracy: 0.8304\n",
            "Epoch 24/100\n",
            "54/54 [==============================] - 0s 2ms/step - loss: 0.3712 - accuracy: 0.8438 - val_loss: 0.3894 - val_accuracy: 0.8338\n",
            "Epoch 25/100\n",
            "54/54 [==============================] - 0s 2ms/step - loss: 0.3673 - accuracy: 0.8472 - val_loss: 0.3862 - val_accuracy: 0.8360\n",
            "Epoch 26/100\n",
            "54/54 [==============================] - 0s 2ms/step - loss: 0.3639 - accuracy: 0.8479 - val_loss: 0.3835 - val_accuracy: 0.8391\n",
            "Epoch 27/100\n",
            "54/54 [==============================] - 0s 2ms/step - loss: 0.3612 - accuracy: 0.8505 - val_loss: 0.3815 - val_accuracy: 0.8379\n",
            "Epoch 28/100\n",
            "54/54 [==============================] - 0s 2ms/step - loss: 0.3583 - accuracy: 0.8503 - val_loss: 0.3789 - val_accuracy: 0.8402\n",
            "Epoch 29/100\n",
            "54/54 [==============================] - 0s 2ms/step - loss: 0.3560 - accuracy: 0.8511 - val_loss: 0.3776 - val_accuracy: 0.8440\n",
            "Epoch 30/100\n",
            "54/54 [==============================] - 0s 2ms/step - loss: 0.3533 - accuracy: 0.8522 - val_loss: 0.3756 - val_accuracy: 0.8451\n",
            "Epoch 31/100\n",
            "54/54 [==============================] - 0s 2ms/step - loss: 0.3516 - accuracy: 0.8533 - val_loss: 0.3746 - val_accuracy: 0.8478\n",
            "Epoch 32/100\n",
            "54/54 [==============================] - 0s 2ms/step - loss: 0.3496 - accuracy: 0.8539 - val_loss: 0.3731 - val_accuracy: 0.8466\n",
            "Epoch 33/100\n",
            "54/54 [==============================] - 0s 2ms/step - loss: 0.3478 - accuracy: 0.8545 - val_loss: 0.3723 - val_accuracy: 0.8478\n",
            "Epoch 34/100\n",
            "54/54 [==============================] - 0s 2ms/step - loss: 0.3465 - accuracy: 0.8552 - val_loss: 0.3710 - val_accuracy: 0.8474\n",
            "Epoch 35/100\n",
            "54/54 [==============================] - 0s 2ms/step - loss: 0.3447 - accuracy: 0.8554 - val_loss: 0.3700 - val_accuracy: 0.8493\n",
            "Epoch 36/100\n",
            "54/54 [==============================] - 0s 2ms/step - loss: 0.3432 - accuracy: 0.8563 - val_loss: 0.3698 - val_accuracy: 0.8497\n",
            "Epoch 37/100\n",
            "54/54 [==============================] - 0s 2ms/step - loss: 0.3420 - accuracy: 0.8569 - val_loss: 0.3689 - val_accuracy: 0.8501\n",
            "Epoch 38/100\n",
            "54/54 [==============================] - 0s 2ms/step - loss: 0.3409 - accuracy: 0.8561 - val_loss: 0.3679 - val_accuracy: 0.8508\n",
            "Epoch 39/100\n",
            "54/54 [==============================] - 0s 2ms/step - loss: 0.3398 - accuracy: 0.8597 - val_loss: 0.3678 - val_accuracy: 0.8508\n",
            "Epoch 40/100\n",
            "54/54 [==============================] - 0s 2ms/step - loss: 0.3390 - accuracy: 0.8593 - val_loss: 0.3674 - val_accuracy: 0.8508\n",
            "Epoch 41/100\n",
            "54/54 [==============================] - 0s 2ms/step - loss: 0.3381 - accuracy: 0.8589 - val_loss: 0.3666 - val_accuracy: 0.8516\n",
            "Epoch 42/100\n",
            "54/54 [==============================] - 0s 2ms/step - loss: 0.3374 - accuracy: 0.8604 - val_loss: 0.3657 - val_accuracy: 0.8527\n",
            "Epoch 43/100\n",
            "54/54 [==============================] - 0s 2ms/step - loss: 0.3366 - accuracy: 0.8615 - val_loss: 0.3663 - val_accuracy: 0.8504\n",
            "Epoch 44/100\n",
            "54/54 [==============================] - 0s 2ms/step - loss: 0.3355 - accuracy: 0.8617 - val_loss: 0.3650 - val_accuracy: 0.8527\n",
            "Epoch 45/100\n",
            "54/54 [==============================] - 0s 2ms/step - loss: 0.3348 - accuracy: 0.8606 - val_loss: 0.3645 - val_accuracy: 0.8531\n",
            "Epoch 46/100\n",
            "54/54 [==============================] - 0s 2ms/step - loss: 0.3340 - accuracy: 0.8608 - val_loss: 0.3642 - val_accuracy: 0.8516\n",
            "Epoch 47/100\n",
            "54/54 [==============================] - 0s 2ms/step - loss: 0.3336 - accuracy: 0.8621 - val_loss: 0.3643 - val_accuracy: 0.8523\n",
            "Epoch 48/100\n",
            "54/54 [==============================] - 0s 2ms/step - loss: 0.3329 - accuracy: 0.8628 - val_loss: 0.3641 - val_accuracy: 0.8527\n",
            "Epoch 49/100\n",
            "54/54 [==============================] - 0s 2ms/step - loss: 0.3325 - accuracy: 0.8606 - val_loss: 0.3634 - val_accuracy: 0.8519\n",
            "Epoch 50/100\n",
            "54/54 [==============================] - 0s 2ms/step - loss: 0.3316 - accuracy: 0.8623 - val_loss: 0.3627 - val_accuracy: 0.8519\n",
            "Epoch 51/100\n",
            "54/54 [==============================] - 0s 2ms/step - loss: 0.3309 - accuracy: 0.8630 - val_loss: 0.3626 - val_accuracy: 0.8516\n",
            "Epoch 52/100\n",
            "54/54 [==============================] - 0s 2ms/step - loss: 0.3307 - accuracy: 0.8621 - val_loss: 0.3621 - val_accuracy: 0.8519\n",
            "Epoch 53/100\n",
            "54/54 [==============================] - 0s 2ms/step - loss: 0.3303 - accuracy: 0.8630 - val_loss: 0.3619 - val_accuracy: 0.8531\n",
            "Epoch 54/100\n",
            "54/54 [==============================] - 0s 2ms/step - loss: 0.3299 - accuracy: 0.8625 - val_loss: 0.3618 - val_accuracy: 0.8516\n",
            "Epoch 55/100\n",
            "54/54 [==============================] - 0s 2ms/step - loss: 0.3294 - accuracy: 0.8640 - val_loss: 0.3613 - val_accuracy: 0.8538\n",
            "Epoch 56/100\n",
            "54/54 [==============================] - 0s 2ms/step - loss: 0.3291 - accuracy: 0.8630 - val_loss: 0.3612 - val_accuracy: 0.8531\n",
            "Epoch 57/100\n",
            "54/54 [==============================] - 0s 2ms/step - loss: 0.3286 - accuracy: 0.8630 - val_loss: 0.3611 - val_accuracy: 0.8519\n",
            "Epoch 58/100\n",
            "54/54 [==============================] - 0s 2ms/step - loss: 0.3282 - accuracy: 0.8627 - val_loss: 0.3606 - val_accuracy: 0.8523\n",
            "Epoch 59/100\n",
            "54/54 [==============================] - 0s 2ms/step - loss: 0.3279 - accuracy: 0.8642 - val_loss: 0.3611 - val_accuracy: 0.8527\n",
            "Epoch 60/100\n",
            "54/54 [==============================] - 0s 2ms/step - loss: 0.3277 - accuracy: 0.8636 - val_loss: 0.3607 - val_accuracy: 0.8535\n",
            "Epoch 61/100\n",
            "54/54 [==============================] - 0s 2ms/step - loss: 0.3273 - accuracy: 0.8636 - val_loss: 0.3610 - val_accuracy: 0.8519\n",
            "Epoch 62/100\n",
            "54/54 [==============================] - 0s 2ms/step - loss: 0.3268 - accuracy: 0.8643 - val_loss: 0.3609 - val_accuracy: 0.8538\n",
            "Epoch 63/100\n",
            "54/54 [==============================] - 0s 2ms/step - loss: 0.3266 - accuracy: 0.8636 - val_loss: 0.3605 - val_accuracy: 0.8519\n",
            "Epoch 64/100\n",
            "54/54 [==============================] - 0s 2ms/step - loss: 0.3263 - accuracy: 0.8643 - val_loss: 0.3604 - val_accuracy: 0.8523\n",
            "Epoch 65/100\n",
            "54/54 [==============================] - 0s 2ms/step - loss: 0.3261 - accuracy: 0.8625 - val_loss: 0.3611 - val_accuracy: 0.8527\n",
            "Epoch 66/100\n",
            "54/54 [==============================] - 0s 2ms/step - loss: 0.3258 - accuracy: 0.8640 - val_loss: 0.3607 - val_accuracy: 0.8531\n",
            "Epoch 67/100\n",
            "54/54 [==============================] - 0s 2ms/step - loss: 0.3253 - accuracy: 0.8643 - val_loss: 0.3608 - val_accuracy: 0.8527\n",
            "Epoch 68/100\n",
            "54/54 [==============================] - 0s 2ms/step - loss: 0.3251 - accuracy: 0.8647 - val_loss: 0.3607 - val_accuracy: 0.8516\n",
            "Epoch 69/100\n",
            "54/54 [==============================] - 0s 2ms/step - loss: 0.3252 - accuracy: 0.8636 - val_loss: 0.3604 - val_accuracy: 0.8519\n",
            "Epoch 70/100\n",
            "54/54 [==============================] - 0s 2ms/step - loss: 0.3247 - accuracy: 0.8640 - val_loss: 0.3608 - val_accuracy: 0.8516\n",
            "Epoch 71/100\n",
            "54/54 [==============================] - 0s 2ms/step - loss: 0.3245 - accuracy: 0.8636 - val_loss: 0.3604 - val_accuracy: 0.8512\n",
            "Epoch 72/100\n",
            "54/54 [==============================] - 0s 2ms/step - loss: 0.3242 - accuracy: 0.8653 - val_loss: 0.3604 - val_accuracy: 0.8516\n",
            "Epoch 73/100\n",
            "54/54 [==============================] - 0s 2ms/step - loss: 0.3242 - accuracy: 0.8638 - val_loss: 0.3605 - val_accuracy: 0.8516\n",
            "Epoch 74/100\n",
            "54/54 [==============================] - 0s 2ms/step - loss: 0.3240 - accuracy: 0.8642 - val_loss: 0.3608 - val_accuracy: 0.8516\n",
            "Epoch 75/100\n",
            "54/54 [==============================] - 0s 2ms/step - loss: 0.3235 - accuracy: 0.8642 - val_loss: 0.3605 - val_accuracy: 0.8519\n",
            "Epoch 76/100\n",
            "54/54 [==============================] - 0s 2ms/step - loss: 0.3236 - accuracy: 0.8636 - val_loss: 0.3606 - val_accuracy: 0.8523\n",
            "Epoch 77/100\n",
            "54/54 [==============================] - 0s 2ms/step - loss: 0.3235 - accuracy: 0.8651 - val_loss: 0.3605 - val_accuracy: 0.8527\n",
            "Epoch 78/100\n",
            "54/54 [==============================] - 0s 2ms/step - loss: 0.3230 - accuracy: 0.8636 - val_loss: 0.3606 - val_accuracy: 0.8512\n",
            "Epoch 79/100\n",
            "54/54 [==============================] - 0s 2ms/step - loss: 0.3227 - accuracy: 0.8643 - val_loss: 0.3603 - val_accuracy: 0.8516\n",
            "Epoch 80/100\n",
            "54/54 [==============================] - 0s 2ms/step - loss: 0.3227 - accuracy: 0.8640 - val_loss: 0.3605 - val_accuracy: 0.8519\n",
            "Epoch 81/100\n",
            "54/54 [==============================] - 0s 2ms/step - loss: 0.3227 - accuracy: 0.8649 - val_loss: 0.3609 - val_accuracy: 0.8519\n",
            "Epoch 82/100\n",
            "54/54 [==============================] - 0s 2ms/step - loss: 0.3227 - accuracy: 0.8638 - val_loss: 0.3605 - val_accuracy: 0.8519\n",
            "Epoch 83/100\n",
            "54/54 [==============================] - 0s 2ms/step - loss: 0.3224 - accuracy: 0.8638 - val_loss: 0.3604 - val_accuracy: 0.8523\n",
            "Epoch 84/100\n",
            "54/54 [==============================] - 0s 2ms/step - loss: 0.3220 - accuracy: 0.8643 - val_loss: 0.3605 - val_accuracy: 0.8519\n",
            "Epoch 85/100\n",
            "54/54 [==============================] - 0s 2ms/step - loss: 0.3217 - accuracy: 0.8643 - val_loss: 0.3604 - val_accuracy: 0.8527\n",
            "Epoch 86/100\n",
            "54/54 [==============================] - 0s 2ms/step - loss: 0.3217 - accuracy: 0.8643 - val_loss: 0.3607 - val_accuracy: 0.8527\n",
            "Epoch 87/100\n",
            "54/54 [==============================] - 0s 2ms/step - loss: 0.3215 - accuracy: 0.8649 - val_loss: 0.3605 - val_accuracy: 0.8504\n",
            "Epoch 88/100\n",
            "54/54 [==============================] - 0s 2ms/step - loss: 0.3213 - accuracy: 0.8643 - val_loss: 0.3602 - val_accuracy: 0.8504\n",
            "Epoch 89/100\n",
            "54/54 [==============================] - 0s 2ms/step - loss: 0.3211 - accuracy: 0.8647 - val_loss: 0.3604 - val_accuracy: 0.8512\n",
            "Epoch 90/100\n",
            "54/54 [==============================] - 0s 2ms/step - loss: 0.3207 - accuracy: 0.8647 - val_loss: 0.3611 - val_accuracy: 0.8512\n",
            "Epoch 91/100\n",
            "54/54 [==============================] - 0s 2ms/step - loss: 0.3208 - accuracy: 0.8647 - val_loss: 0.3606 - val_accuracy: 0.8527\n",
            "Epoch 92/100\n",
            "54/54 [==============================] - 0s 2ms/step - loss: 0.3205 - accuracy: 0.8636 - val_loss: 0.3602 - val_accuracy: 0.8516\n",
            "Epoch 93/100\n",
            "54/54 [==============================] - 0s 2ms/step - loss: 0.3204 - accuracy: 0.8638 - val_loss: 0.3602 - val_accuracy: 0.8508\n",
            "Epoch 94/100\n",
            "54/54 [==============================] - 0s 2ms/step - loss: 0.3203 - accuracy: 0.8627 - val_loss: 0.3601 - val_accuracy: 0.8531\n",
            "Epoch 95/100\n",
            "54/54 [==============================] - 0s 2ms/step - loss: 0.3203 - accuracy: 0.8636 - val_loss: 0.3604 - val_accuracy: 0.8519\n",
            "Epoch 96/100\n",
            "54/54 [==============================] - 0s 2ms/step - loss: 0.3198 - accuracy: 0.8645 - val_loss: 0.3601 - val_accuracy: 0.8497\n",
            "Epoch 97/100\n",
            "54/54 [==============================] - 0s 2ms/step - loss: 0.3196 - accuracy: 0.8638 - val_loss: 0.3599 - val_accuracy: 0.8512\n",
            "Epoch 98/100\n",
            "54/54 [==============================] - 0s 2ms/step - loss: 0.3193 - accuracy: 0.8653 - val_loss: 0.3602 - val_accuracy: 0.8523\n",
            "Epoch 99/100\n",
            "54/54 [==============================] - 0s 2ms/step - loss: 0.3194 - accuracy: 0.8640 - val_loss: 0.3600 - val_accuracy: 0.8519\n",
            "Epoch 100/100\n",
            "54/54 [==============================] - 0s 2ms/step - loss: 0.3192 - accuracy: 0.8634 - val_loss: 0.3602 - val_accuracy: 0.8519\n"
          ],
          "name": "stdout"
        }
      ]
    },
    {
      "cell_type": "code",
      "metadata": {
        "id": "NJFXP634TXOD",
        "colab": {
          "base_uri": "https://localhost:8080/"
        },
        "outputId": "b764a28a-d3f7-4286-e0fd-59625919fe68"
      },
      "source": [
        "model_history.history.keys()"
      ],
      "execution_count": null,
      "outputs": [
        {
          "output_type": "execute_result",
          "data": {
            "text/plain": [
              "dict_keys(['loss', 'accuracy', 'val_loss', 'val_accuracy'])"
            ]
          },
          "metadata": {
            "tags": []
          },
          "execution_count": 23
        }
      ]
    },
    {
      "cell_type": "code",
      "metadata": {
        "colab": {
          "base_uri": "https://localhost:8080/",
          "height": 312
        },
        "id": "9YYQKNLFoGqY",
        "outputId": "9243657b-b9d2-47c1-d1df-c6e3a8485de8"
      },
      "source": [
        "# list all data in history\n",
        "\n",
        "print(model_history.history.keys())\n",
        "# summarize history for accuracy\n",
        "plt.plot(model_history.history['accuracy'])\n",
        "plt.plot(model_history.history['val_accuracy'])\n",
        "plt.title('model accuracy')\n",
        "plt.ylabel('accuracy')\n",
        "plt.xlabel('epoch')\n",
        "plt.legend(['train', 'test'], loc='upper left')\n",
        "plt.show()"
      ],
      "execution_count": null,
      "outputs": [
        {
          "output_type": "stream",
          "text": [
            "dict_keys(['loss', 'accuracy', 'val_loss', 'val_accuracy'])\n"
          ],
          "name": "stdout"
        },
        {
          "output_type": "display_data",
          "data": {
            "image/png": "[encoded data removed]",
            "text/plain": [
              "<Figure size 432x288 with 1 Axes>"
            ]
          },
          "metadata": {
            "tags": [],
            "needs_background": "light"
          }
        }
      ]
    },
    {
      "cell_type": "code",
      "metadata": {
        "colab": {
          "base_uri": "https://localhost:8080/",
          "height": 295
        },
        "id": "SxqMInP_ogni",
        "outputId": "e1d68a15-61fe-4e60-a682-62c1371ea84a"
      },
      "source": [
        "# summarize history for loss\n",
        "plt.plot(model_history.history['loss'])\n",
        "plt.plot(model_history.history['val_loss'])\n",
        "plt.title('model loss')\n",
        "plt.ylabel('loss')\n",
        "plt.xlabel('epoch')\n",
        "plt.legend(['train', 'test'], loc='upper left')\n",
        "plt.show()"
      ],
      "execution_count": null,
      "outputs": [
        {
          "output_type": "display_data",
          "data": {
            "image/png": "[encoded data removed]",
            "text/plain": [
              "<Figure size 432x288 with 1 Axes>"
            ]
          },
          "metadata": {
            "tags": [],
            "needs_background": "light"
          }
        }
      ]
    },
    {
      "cell_type": "code",
      "metadata": {
        "id": "y2_wiHsdor3R"
      },
      "source": [
        "# Part 3 - Making the predictions and evaluating the model\n",
        "\n",
        "# Predicting the Test set results\n",
        "y_pred = classifier.predict(X_test)\n",
        "y_pred = (y_pred > 0.5)"
      ],
      "execution_count": null,
      "outputs": []
    },
    {
      "cell_type": "code",
      "metadata": {
        "id": "BFV67LDYTXOE",
        "colab": {
          "base_uri": "https://localhost:8080/"
        },
        "outputId": "d666ba85-72e7-4dd1-ca19-c001f89f91ba"
      },
      "source": [
        "y_pred"
      ],
      "execution_count": null,
      "outputs": [
        {
          "output_type": "execute_result",
          "data": {
            "text/plain": [
              "array([[False],\n",
              "       [False],\n",
              "       [False],\n",
              "       ...,\n",
              "       [False],\n",
              "       [False],\n",
              "       [False]])"
            ]
          },
          "metadata": {
            "tags": []
          },
          "execution_count": 27
        }
      ]
    },
    {
      "cell_type": "code",
      "metadata": {
        "id": "6aOhNA4iovzu"
      },
      "source": [
        "# Making the Confusion Matrix\n",
        "from sklearn.metrics import confusion_matrix\n",
        "cm = confusion_matrix(y_test, y_pred)"
      ],
      "execution_count": null,
      "outputs": []
    },
    {
      "cell_type": "code",
      "metadata": {
        "colab": {
          "base_uri": "https://localhost:8080/"
        },
        "id": "my6JGfzioxy2",
        "outputId": "ca480606-450b-4bf5-abf5-e6df37a6f0da"
      },
      "source": [
        "cm"
      ],
      "execution_count": null,
      "outputs": [
        {
          "output_type": "execute_result",
          "data": {
            "text/plain": [
              "array([[1515,   80],\n",
              "       [ 198,  207]])"
            ]
          },
          "metadata": {
            "tags": []
          },
          "execution_count": 29
        }
      ]
    },
    {
      "cell_type": "code",
      "metadata": {
        "id": "G4FVoJl7oyr_"
      },
      "source": [
        "# Calculate the Accuracy\n",
        "from sklearn.metrics import accuracy_score\n",
        "score=accuracy_score(y_pred,y_test)"
      ],
      "execution_count": null,
      "outputs": []
    },
    {
      "cell_type": "code",
      "metadata": {
        "colab": {
          "base_uri": "https://localhost:8080/"
        },
        "id": "Y4Nlv_pjo1GQ",
        "outputId": "421bdc37-821e-4b38-f22d-ef91c7c9d224"
      },
      "source": [
        "score"
      ],
      "execution_count": null,
      "outputs": [
        {
          "output_type": "execute_result",
          "data": {
            "text/plain": [
              "0.861"
            ]
          },
          "metadata": {
            "tags": []
          },
          "execution_count": 31
        }
      ]
    },
    {
      "cell_type": "markdown",
      "metadata": {
        "id": "b1yygYwFhkMc"
      },
      "source": [
        "how do we decide n.o of layers and neurons \n"
      ]
    },
    {
      "cell_type": "code",
      "metadata": {
        "id": "791inrxho2zL"
      },
      "source": [
        ""
      ],
      "execution_count": null,
      "outputs": []
    }
  ]
}